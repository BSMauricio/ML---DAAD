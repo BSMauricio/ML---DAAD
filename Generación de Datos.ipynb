{
 "cells": [
  {
   "cell_type": "code",
   "execution_count": 1,
   "id": "c0e20e41",
   "metadata": {},
   "outputs": [
    {
     "name": "stdout",
     "output_type": "stream",
     "text": [
      "      Radiacion Cumple Limite Permitido\n",
      "0         2.763                      Si\n",
      "1         3.980                      Si\n",
      "2         6.571                      No\n",
      "3         9.843                      No\n",
      "4         4.505                      Si\n",
      "...         ...                     ...\n",
      "9995      3.961                      Si\n",
      "9996      3.863                      Si\n",
      "9997      5.121                      No\n",
      "9998      4.190                      Si\n",
      "9999      1.785                      Si\n",
      "\n",
      "[10000 rows x 2 columns]\n"
     ]
    }
   ],
   "source": [
    "import random\n",
    "import pandas as pd\n",
    "\n",
    "def generar_radiacion():\n",
    "    # Generar un número aleatorio entre 0 y 10(10 milisieverts)\n",
    "    radiacion = random.uniform(0, 10)\n",
    "    # Redondear a 3 decimales\n",
    "    radiacion_redondeada = round(radiacion, 3)\n",
    "    return radiacion_redondeada\n",
    "\n",
    "# Crear listas para almacenar los datos\n",
    "radiaciones = []\n",
    "condiciones = []\n",
    "\n",
    "# Generar 10000 números aleatorios de radiación y guardar los valores y las condiciones\n",
    "for _ in range(10000):\n",
    "    radiacion = generar_radiacion()\n",
    "    # Verificar si el valor es menor 5\n",
    "    if radiacion <= 5:\n",
    "        condicion = \"Si\"\n",
    "    else:\n",
    "        condicion = \"No\"\n",
    "\n",
    "    radiaciones.append(radiacion)\n",
    "    condiciones.append(condicion)\n",
    "\n",
    "# Crear un DataFrame de Pandas con las columnas 'Radiación' y 'Condición'\n",
    "df = pd.DataFrame({'Radiacion': radiaciones, 'Cumple Limite Permitido': condiciones})\n",
    "\n",
    "# Imprimir el DataFrame\n",
    "print(df)\n",
    "\n",
    "# Guardar el DataFrame en un archivo CSV\n",
    "df.to_csv('datos_radiacion.csv', index=False)\n",
    "\n"
   ]
  },
  {
   "cell_type": "code",
   "execution_count": null,
   "id": "c845aa74",
   "metadata": {},
   "outputs": [],
   "source": []
  }
 ],
 "metadata": {
  "kernelspec": {
   "display_name": "Python 3 (ipykernel)",
   "language": "python",
   "name": "python3"
  },
  "language_info": {
   "codemirror_mode": {
    "name": "ipython",
    "version": 3
   },
   "file_extension": ".py",
   "mimetype": "text/x-python",
   "name": "python",
   "nbconvert_exporter": "python",
   "pygments_lexer": "ipython3",
   "version": "3.11.5"
  }
 },
 "nbformat": 4,
 "nbformat_minor": 5
}
