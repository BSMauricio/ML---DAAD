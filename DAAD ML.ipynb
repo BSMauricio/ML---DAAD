{
 "cells": [
  {
   "cell_type": "code",
   "execution_count": 1,
   "id": "e5f83e4c",
   "metadata": {},
   "outputs": [],
   "source": [
    "# Importing the necessary packages\n",
    "import numpy as np\n",
    "import pandas as pd\n",
    "import time\n",
    "from pandas.plotting import scatter_matrix\n",
    "import matplotlib.pyplot as plt\n",
    "from matplotlib.colors import ListedColormap\n",
    "import matplotlib as mpl\n",
    "mpl.rcParams.update({'font.size': 14})\n",
    "import seaborn as sns\n",
    "from sklearn.svm import SVC\n",
    "from sklearn.metrics import accuracy_score\n",
    "from sklearn import model_selection\n",
    "from sklearn.preprocessing import OneHotEncoder\n",
    "from sklearn.decomposition import PCA\n",
    "from sklearn.preprocessing import StandardScaler, MinMaxScaler\n",
    "from sklearn.model_selection import GridSearchCV\n",
    "from sklearn.pipeline import Pipeline\n",
    "import warnings\n",
    "\n",
    "warnings.filterwarnings('ignore')"
   ]
  },
  {
   "cell_type": "code",
   "execution_count": 2,
   "id": "0ea7bf90",
   "metadata": {},
   "outputs": [
    {
     "name": "stdout",
     "output_type": "stream",
     "text": [
      "      index  Radiacion Cumple Limite Permitido\n",
      "0         0      2.763                      Si\n",
      "1         1      3.980                      Si\n",
      "2         2      6.571                      No\n",
      "3         3      9.843                      No\n",
      "4         4      4.505                      Si\n",
      "...     ...        ...                     ...\n",
      "9995   9995      3.961                      Si\n",
      "9996   9996      3.863                      Si\n",
      "9997   9997      5.121                      No\n",
      "9998   9998      4.190                      Si\n",
      "9999   9999      1.785                      Si\n",
      "\n",
      "[10000 rows x 3 columns]\n"
     ]
    }
   ],
   "source": [
    "# Reemplaza la ruta con la correcta y utiliza barras invertidas dobles o barras inclinadas\n",
    "ruta_archivo = r'C:\\Users\\Asus\\Documents\\Programas Python\\DAAD\\datos_radiacion.csv'\n",
    "\n",
    "# Leer el archivo CSV en un DataFrame\n",
    "df_train = pd.read_csv(ruta_archivo).reset_index()\n",
    "\n",
    "print(df_train)"
   ]
  },
  {
   "cell_type": "code",
   "execution_count": 3,
   "id": "16192bb3",
   "metadata": {},
   "outputs": [
    {
     "name": "stdout",
     "output_type": "stream",
     "text": [
      "      Radiacion Cumple Limite Permitido\n",
      "0         2.763                      Si\n",
      "1         3.980                      Si\n",
      "2         6.571                      No\n",
      "3         9.843                      No\n",
      "4         4.505                      Si\n",
      "...         ...                     ...\n",
      "9995      3.961                      Si\n",
      "9996      3.863                      Si\n",
      "9997      5.121                      No\n",
      "9998      4.190                      Si\n",
      "9999      1.785                      Si\n",
      "\n",
      "[10000 rows x 2 columns]\n"
     ]
    }
   ],
   "source": [
    "# Eliminar la columna de índice\n",
    "df_train = df_train.drop(columns=['index'])\n",
    "\n",
    "# Mostrar el DataFrame después de eliminar la columna de índice\n",
    "print(df_train)"
   ]
  },
  {
   "cell_type": "code",
   "execution_count": 4,
   "id": "58c502fe",
   "metadata": {},
   "outputs": [
    {
     "name": "stdout",
     "output_type": "stream",
     "text": [
      "<class 'pandas.core.frame.DataFrame'>\n",
      "RangeIndex: 10000 entries, 0 to 9999\n",
      "Data columns (total 2 columns):\n",
      " #   Column                   Non-Null Count  Dtype  \n",
      "---  ------                   --------------  -----  \n",
      " 0   Radiacion                10000 non-null  float64\n",
      " 1   Cumple Limite Permitido  10000 non-null  object \n",
      "dtypes: float64(1), object(1)\n",
      "memory usage: 156.4+ KB\n"
     ]
    }
   ],
   "source": [
    "df_train.info()"
   ]
  },
  {
   "cell_type": "code",
   "execution_count": 5,
   "id": "38b76ee9",
   "metadata": {},
   "outputs": [
    {
     "name": "stdout",
     "output_type": "stream",
     "text": [
      "      Cumple Limite Permitido\n",
      "0                           1\n",
      "1                           1\n",
      "2                           0\n",
      "3                           0\n",
      "4                           1\n",
      "...                       ...\n",
      "9995                        1\n",
      "9996                        1\n",
      "9997                        0\n",
      "9998                        1\n",
      "9999                        1\n",
      "\n",
      "[10000 rows x 1 columns]\n"
     ]
    }
   ],
   "source": [
    "# Asignar 0 a 'No' y 1 a 'Si', el resto se mantiene igual\n",
    "df_train['Cumple Limite Permitido'] = df_train['Cumple Limite Permitido'].map({'Si': 1, 'No': 0})\n",
    "\n",
    "# Mostrar el DataFrame resultante\n",
    "print(df_train[['Cumple Limite Permitido']])"
   ]
  },
  {
   "cell_type": "code",
   "execution_count": 6,
   "id": "d8f92d5e",
   "metadata": {},
   "outputs": [
    {
     "data": {
      "text/html": [
       "<div>\n",
       "<style scoped>\n",
       "    .dataframe tbody tr th:only-of-type {\n",
       "        vertical-align: middle;\n",
       "    }\n",
       "\n",
       "    .dataframe tbody tr th {\n",
       "        vertical-align: top;\n",
       "    }\n",
       "\n",
       "    .dataframe thead th {\n",
       "        text-align: right;\n",
       "    }\n",
       "</style>\n",
       "<table border=\"1\" class=\"dataframe\">\n",
       "  <thead>\n",
       "    <tr style=\"text-align: right;\">\n",
       "      <th></th>\n",
       "      <th>Radiacion</th>\n",
       "      <th>Cumple Limite Permitido</th>\n",
       "    </tr>\n",
       "  </thead>\n",
       "  <tbody>\n",
       "    <tr>\n",
       "      <th>0</th>\n",
       "      <td>2.763</td>\n",
       "      <td>1</td>\n",
       "    </tr>\n",
       "    <tr>\n",
       "      <th>1</th>\n",
       "      <td>3.980</td>\n",
       "      <td>1</td>\n",
       "    </tr>\n",
       "    <tr>\n",
       "      <th>2</th>\n",
       "      <td>6.571</td>\n",
       "      <td>0</td>\n",
       "    </tr>\n",
       "    <tr>\n",
       "      <th>3</th>\n",
       "      <td>9.843</td>\n",
       "      <td>0</td>\n",
       "    </tr>\n",
       "    <tr>\n",
       "      <th>4</th>\n",
       "      <td>4.505</td>\n",
       "      <td>1</td>\n",
       "    </tr>\n",
       "    <tr>\n",
       "      <th>...</th>\n",
       "      <td>...</td>\n",
       "      <td>...</td>\n",
       "    </tr>\n",
       "    <tr>\n",
       "      <th>9995</th>\n",
       "      <td>3.961</td>\n",
       "      <td>1</td>\n",
       "    </tr>\n",
       "    <tr>\n",
       "      <th>9996</th>\n",
       "      <td>3.863</td>\n",
       "      <td>1</td>\n",
       "    </tr>\n",
       "    <tr>\n",
       "      <th>9997</th>\n",
       "      <td>5.121</td>\n",
       "      <td>0</td>\n",
       "    </tr>\n",
       "    <tr>\n",
       "      <th>9998</th>\n",
       "      <td>4.190</td>\n",
       "      <td>1</td>\n",
       "    </tr>\n",
       "    <tr>\n",
       "      <th>9999</th>\n",
       "      <td>1.785</td>\n",
       "      <td>1</td>\n",
       "    </tr>\n",
       "  </tbody>\n",
       "</table>\n",
       "<p>10000 rows × 2 columns</p>\n",
       "</div>"
      ],
      "text/plain": [
       "      Radiacion  Cumple Limite Permitido\n",
       "0         2.763                        1\n",
       "1         3.980                        1\n",
       "2         6.571                        0\n",
       "3         9.843                        0\n",
       "4         4.505                        1\n",
       "...         ...                      ...\n",
       "9995      3.961                        1\n",
       "9996      3.863                        1\n",
       "9997      5.121                        0\n",
       "9998      4.190                        1\n",
       "9999      1.785                        1\n",
       "\n",
       "[10000 rows x 2 columns]"
      ]
     },
     "execution_count": 6,
     "metadata": {},
     "output_type": "execute_result"
    }
   ],
   "source": [
    "df_train"
   ]
  },
  {
   "cell_type": "code",
   "execution_count": 7,
   "id": "246dcafa",
   "metadata": {},
   "outputs": [
    {
     "data": {
      "text/plain": [
       "<seaborn.axisgrid.PairGrid at 0x204959bbad0>"
      ]
     },
     "execution_count": 7,
     "metadata": {},
     "output_type": "execute_result"
    },
    {
     "data": {
      "image/png": "[encoded data removed]",
      "text/plain": [
       "<Figure size 500x500 with 5 Axes>"
      ]
     },
     "metadata": {},
     "output_type": "display_data"
    }
   ],
   "source": [
    "# Show a correlation scatter plot on the train data\n",
    "import seaborn as sns\n",
    "sns.pairplot(df_train, kind=\"kde\" , corner=True)"
   ]
  },
  {
   "cell_type": "code",
   "execution_count": 8,
   "id": "8c4be39f",
   "metadata": {},
   "outputs": [
    {
     "data": {
      "text/plain": [
       "<Axes: xlabel='Radiacion', ylabel='Density'>"
      ]
     },
     "execution_count": 8,
     "metadata": {},
     "output_type": "execute_result"
    },
    {
     "data": {
      "image/png": "[encoded data removed]",
      "text/plain": [
       "<Figure size 640x480 with 1 Axes>"
      ]
     },
     "metadata": {},
     "output_type": "display_data"
    }
   ],
   "source": [
    "# Analisis de las distribuciones, luego de eliminar los outliers\n",
    "sns.kdeplot(data=df_train, x='Radiacion')#, hue=\"glitch label\", fill=True, common_norm=False)"
   ]
  },
  {
   "cell_type": "code",
   "execution_count": 9,
   "id": "ec34d6a3",
   "metadata": {},
   "outputs": [],
   "source": [
    "#selecting useful columns in the test set:\n",
    "X = df_train[['Radiacion']]\n",
    "Y = df_train['Cumple Limite Permitido'].astype('category')"
   ]
  },
  {
   "cell_type": "code",
   "execution_count": 10,
   "id": "0c4313fb",
   "metadata": {},
   "outputs": [],
   "source": [
    "#Split the train data further into train and test sets\n",
    "# Split training and test sets\n",
    "X_train, X_test, Y_train, Y_test = model_selection.train_test_split(X, Y, test_size=0.2, shuffle = True)"
   ]
  },
  {
   "cell_type": "code",
   "execution_count": 11,
   "id": "2d211d12",
   "metadata": {},
   "outputs": [
    {
     "data": {
      "image/png": "[encoded data removed]",
      "text/plain": [
       "<Figure size 640x480 with 1 Axes>"
      ]
     },
     "metadata": {},
     "output_type": "display_data"
    }
   ],
   "source": [
    "# Distribucion de las categorias\n",
    "import matplotlib as mpl\n",
    "mpl.rcParams['figure.facecolor'] = 'white'\n",
    "Y_test.value_counts().plot(kind=\"bar\")\n",
    "plt.savefig(\"glitch distribution.png\", bbox_inches='tight', facecolor='w')"
   ]
  },
  {
   "cell_type": "code",
   "execution_count": 12,
   "id": "dfdc4bb4",
   "metadata": {},
   "outputs": [],
   "source": [
    "# Training routine\n",
    "def train_model(XT, YT, Xt, Yt, model, **params):\n",
    "\n",
    "    clf = model(**params)\n",
    "    clf.fit(XT,YT)\n",
    "    predictions = clf.predict(Xt)\n",
    "    acc_train, acc_test = accuracy_score(YT, clf.predict(XT)), accuracy_score(Yt, predictions)\n",
    "    print(\"Train accuracy: {:.4f}, Test accuracy: {:.4f}\".format(acc_train, acc_test))\n",
    "    return acc_test"
   ]
  },
  {
   "cell_type": "code",
   "execution_count": 13,
   "id": "79bc7d1e",
   "metadata": {},
   "outputs": [],
   "source": [
    "def transform(data):\n",
    "    #n_dim = 2\n",
    "    #pca = PCA(n_components=n_dim)\n",
    "    #data = pca.fit_transform(data)\n",
    "\n",
    "    std_scale = StandardScaler()\n",
    "    data = std_scale.fit_transform(data)\n",
    "\n",
    "    minmax_scale = MinMaxScaler((-1, 1))\n",
    "    #data = minmax_scale.fit_transform(data)\n",
    "\n",
    "    return data"
   ]
  },
  {
   "cell_type": "markdown",
   "id": "0c848411",
   "metadata": {},
   "source": [
    "### SVM"
   ]
  },
  {
   "cell_type": "code",
   "execution_count": 14,
   "id": "f0f21ead",
   "metadata": {},
   "outputs": [],
   "source": [
    "# defining parameter range\n",
    "parameters = {\"kernel\":(['rbf']),\n",
    "              'C': [0.1, 1, 10, 100, 1000],\n",
    "              'gamma':[1, 0.1, 0.001, 0.0001]}\n",
    "svc = SVC()\n",
    "grid = GridSearchCV(svc, parameters, verbose=3, n_jobs=-1)"
   ]
  },
  {
   "cell_type": "code",
   "execution_count": 15,
   "id": "fb94c446",
   "metadata": {},
   "outputs": [
    {
     "name": "stdout",
     "output_type": "stream",
     "text": [
      "Fitting 5 folds for each of 20 candidates, totalling 100 fits\n",
      "Tiempo de ejecucion: 29.21995234489441\n"
     ]
    }
   ],
   "source": [
    "# Classical fit\n",
    "inicio = time.time()\n",
    "\n",
    "grid.fit(X_train, Y_train)\n",
    "\n",
    "fin = time.time()\n",
    "print(f'Tiempo de ejecucion: {fin-inicio}')"
   ]
  },
  {
   "cell_type": "code",
   "execution_count": 16,
   "id": "eb9a4633",
   "metadata": {},
   "outputs": [
    {
     "name": "stdout",
     "output_type": "stream",
     "text": [
      "Train accuracy: 1.0000, Test accuracy: 1.0000\n"
     ]
    },
    {
     "data": {
      "text/plain": [
       "1.0"
      ]
     },
     "execution_count": 16,
     "metadata": {},
     "output_type": "execute_result"
    }
   ],
   "source": [
    "train_model(X_train, Y_train, X_test, Y_test, SVC, C= grid.best_params_['C'], kernel = grid.best_params_['kernel'], gamma = grid.best_params_['gamma'])"
   ]
  },
  {
   "cell_type": "markdown",
   "id": "e092fc7c",
   "metadata": {},
   "source": [
    "### RANDOM FOREST"
   ]
  },
  {
   "cell_type": "code",
   "execution_count": 17,
   "id": "bf5dfaf9",
   "metadata": {},
   "outputs": [
    {
     "name": "stdout",
     "output_type": "stream",
     "text": [
      "Precisión del modelo de Random Forest en el conjunto de entrenamiento: 1.000000\n",
      "Precisión del modelo de Random Forest en el conjunto de prueba: 1.000000\n"
     ]
    }
   ],
   "source": [
    "from sklearn.ensemble import RandomForestClassifier\n",
    "\n",
    "def train_random_forest(X_train, Y_train, X_test, Y_test, n_estimators=100, max_depth=None, min_samples_split=2, min_samples_leaf=1):\n",
    "    # Crear el clasificador de Random Forest\n",
    "    rf_classifier = RandomForestClassifier(\n",
    "        n_estimators=n_estimators,\n",
    "        max_depth=max_depth,\n",
    "        min_samples_split=min_samples_split,\n",
    "        min_samples_leaf=min_samples_leaf,\n",
    "        random_state=42  # Puedes ajustar la semilla aleatoria si es necesario\n",
    "    )\n",
    "\n",
    "    # Entrenar el modelo\n",
    "    rf_classifier.fit(X_train, Y_train)\n",
    "\n",
    "    # Hacer predicciones en el conjunto de entrenamiento\n",
    "    train_predictions = rf_classifier.predict(X_train)\n",
    "\n",
    "    # Calcular la precisión en el conjunto de entrenamiento\n",
    "    train_accuracy = accuracy_score(Y_train, train_predictions)\n",
    "\n",
    "    # Hacer predicciones en el conjunto de prueba\n",
    "    test_predictions = rf_classifier.predict(X_test)\n",
    "\n",
    "    # Calcular la precisión en el conjunto de prueba\n",
    "    test_accuracy = accuracy_score(Y_test, test_predictions)\n",
    "\n",
    "    # Imprimir la precisión con dos decimales\n",
    "    print(f'Precisión del modelo de Random Forest en el conjunto de entrenamiento: {train_accuracy:.6f}')\n",
    "    print(f'Precisión del modelo de Random Forest en el conjunto de prueba: {test_accuracy:.6f}')\n",
    "\n",
    "    # Devolver el modelo entrenado\n",
    "    return rf_classifier\n",
    "\n",
    "# Uso del modelo\n",
    "trained_rf_model = train_random_forest(X_train, Y_train, X_test, Y_test, n_estimators=100, max_depth=None, min_samples_split=2, min_samples_leaf=1)\n"
   ]
  },
  {
   "cell_type": "markdown",
   "id": "3bd760f5",
   "metadata": {},
   "source": [
    "### KNN"
   ]
  },
  {
   "cell_type": "code",
   "execution_count": 18,
   "id": "16d30bc7",
   "metadata": {},
   "outputs": [
    {
     "name": "stdout",
     "output_type": "stream",
     "text": [
      "Precisión del modelo KNN en el conjunto de entrenamiento: 1.000000\n",
      "Precisión del modelo KNN en el conjunto de prueba: 1.000000\n"
     ]
    }
   ],
   "source": [
    "from sklearn.neighbors import KNeighborsClassifier\n",
    "from sklearn.metrics import accuracy_score\n",
    "\n",
    "def train_knn(X_train, Y_train, X_test, Y_test, n_neighbors):\n",
    "    # Crear el clasificador KNN\n",
    "    knn_classifier = KNeighborsClassifier(n_neighbors=n_neighbors)\n",
    "\n",
    "    # Entrenar el modelo\n",
    "    knn_classifier.fit(X_train, Y_train)\n",
    "\n",
    "    # Hacer predicciones en el conjunto de entrenamiento\n",
    "    train_predictions = knn_classifier.predict(X_train)\n",
    "\n",
    "    # Calcular la precisión en el conjunto de entrenamiento\n",
    "    train_accuracy = accuracy_score(Y_train, train_predictions)\n",
    "\n",
    "    # Hacer predicciones en el conjunto de prueba\n",
    "    test_predictions = knn_classifier.predict(X_test)\n",
    "\n",
    "    # Calcular la precisión en el conjunto de prueba\n",
    "    test_accuracy = accuracy_score(Y_test, test_predictions)\n",
    "\n",
    "    # Imprimir la precisión con dos decimales\n",
    "    print(f'Precisión del modelo KNN en el conjunto de entrenamiento: {train_accuracy:.6f}')\n",
    "    print(f'Precisión del modelo KNN en el conjunto de prueba: {test_accuracy:.6f}')\n",
    "\n",
    "    # Devolver el modelo entrenado\n",
    "    return knn_classifier\n",
    "\n",
    "# Uso del modelo\n",
    "trained_knn_model = train_knn(X_train, Y_train, X_test, Y_test, n_neighbors=3)\n"
   ]
  },
  {
   "cell_type": "code",
   "execution_count": null,
   "id": "c1ef0cf5",
   "metadata": {},
   "outputs": [],
   "source": []
  }
 ],
 "metadata": {
  "kernelspec": {
   "display_name": "Python 3 (ipykernel)",
   "language": "python",
   "name": "python3"
  },
  "language_info": {
   "codemirror_mode": {
    "name": "ipython",
    "version": 3
   },
   "file_extension": ".py",
   "mimetype": "text/x-python",
   "name": "python",
   "nbconvert_exporter": "python",
   "pygments_lexer": "ipython3",
   "version": "3.11.5"
  }
 },
 "nbformat": 4,
 "nbformat_minor": 5
}
